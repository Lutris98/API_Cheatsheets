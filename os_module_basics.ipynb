{
  "nbformat": 4,
  "nbformat_minor": 0,
  "metadata": {
    "colab": {
      "name": "os module basics",
      "provenance": [],
      "authorship_tag": "ABX9TyMF2UsS52s+wJ1u3W2SsobV",
      "include_colab_link": true
    },
    "kernelspec": {
      "name": "python3",
      "display_name": "Python 3"
    }
  },
  "cells": [
    {
      "cell_type": "markdown",
      "metadata": {
        "id": "view-in-github",
        "colab_type": "text"
      },
      "source": [
        "<a href=\"https://colab.research.google.com/github/Wiqou/Cheatsheets/blob/main/os_module_basics.ipynb\" target=\"_parent\"><img src=\"https://colab.research.google.com/assets/colab-badge.svg\" alt=\"Open In Colab\"/></a>"
      ]
    },
    {
      "cell_type": "markdown",
      "metadata": {
        "id": "gZ_oHU0oaNtF"
      },
      "source": [
        "■ OS모듈<br>\r\n",
        "os(operating system)는 운영체제이고 파이썬에서 os를 import 한다는건 파이썬과 내 운영체제를 연결<br>\r\n",
        "컴퓨터에서 하는 동작들(ex. 빈 폴더 생성, 폴더 열기 등)을 파이썬 내에서 수행<br>\r\n",
        "· os.getcwd() #현재 작업공간의 경로를 반환(current working directory)<br>\r\n",
        "· os.chdir(‘newpath’) #작업공간 경로를 변경(changing working directory)<br>\r\n",
        "· os.listdir() #현재 작업공간에 있는 파일을 확인 <br>\r\n",
        "\r\n",
        "path관련<br>\r\n",
        "· os.path.join('/folder','name') #path와 file을 연결<br>\r\n",
        "· os.path.splitext('/folder/name/a.html') #이름과 확장자로 분리<br>\r\n",
        "· os.listdir(path) #path안의 폴더, 파일을 list로<br>\r\n",
        "\r\n",
        "조작 관련<br>\r\n",
        "· os.path.exists(path) #path가 존재하는지 True, False<br>\r\n",
        "· os.makedirs(os.path.join('/home', 'testFolder)) #folder를 만들기<br>\r\n",
        "· os.rename('./test.txt', './temp/test.txt') #rename함수. oldFile을 newFile로 이동(폴더 이동으로 응용하기도 함)<br>\r\n",
        "\r\n",
        "■ sys모듈<br>\r\n",
        "사실은 os 모듈안에 포함되어 python interpreter 와 관련된 정보와 기능을 제공<br>\r\n",
        "특히 sys.argv 를 많이 사용하는데 c 나 c++ 처럼 인자하나하나를 접근하고 싶을 때는 sys.argv[0], sys.argv[1]<br> \r\n",
        "표준출력 관련하여 stderr 대신에 stdin, stdout 을 사용가능<br>\r\n",
        "\r\n",
        "· print sys.argv # command line arguments 리스트<br>\r\n",
        "· sys.stderr.write('my error') # 표준출력(stderr) 로 에러 출력<br>\r\n",
        "· sys.exit() # 프로그램 빠져나가기<br>\r\n",
        "· sys.modules # 현재 로딩되어 있는 모듈을 dictionary 로 보여줌<br>\r\n",
        "· sys.path # 현재 환경변수 PATH 잡혀있는 directory list 확인<br>"
      ]
    },
    {
      "cell_type": "code",
      "metadata": {
        "id": "eWNlfA16Q4QC"
      },
      "source": [
        "import sys,os\r\n",
        "def listExtFiles(path, extension): #path내 모든 파일중 extension형식만 반환 \r\n",
        "  files=[]\r\n",
        "  for name in os.listdir(path): #path 작업공간속 모든 파일 각각 name객체\r\n",
        "    if os.path.isfile(os.path.join(path,name)): #그 name들이 파일이라면 \r\n",
        "      if name=='.DS_Store' : continue #특정파일은 pass\r\n",
        "      filename,file_extension==os.path.splitext(name) #name에서 확장자분리\r\n",
        "      if file_extension==extension : files.append(name) #특정 형식인 경우만 files객체에 추가\r\n",
        "  return files"
      ],
      "execution_count": null,
      "outputs": []
    },
    {
      "cell_type": "code",
      "metadata": {
        "id": "oLPQpQF2fK7Q"
      },
      "source": [
        "def moveFiles(path,folder,fileList):\r\n",
        "  if not os.path.exists(os.path.join(path,folder)) : os.makedirs(os.path.join(path, folder)) #folder가 경로에 존재하지 않을 때 새로 만들기\r\n",
        "  fileListWithPath = [os.path.join(path, file) for file in fileList] #입력받은 fileList에 'file'각각마다 파일을 경로에 더한 리스트객체 \r\n",
        "  fileListWithNewPath = [os.path.join(path, os.path.join(folder, file)) for file in fileList] #입력받은 fileList에 file각각마다 파일을 새 경로에 더한 리스트객체 \r\n",
        "  for oldFile, newFile in zip(fileListWithPath, fileListWithNewPath):\r\n",
        "    print(oldFile)\r\n",
        "    print(newFile)\r\n",
        "    os.rename(oldFile, newFile) #oldFile이름을 newFile이라고 변경"
      ],
      "execution_count": null,
      "outputs": []
    },
    {
      "cell_type": "code",
      "metadata": {
        "id": "ZqkHHaiwfivu"
      },
      "source": [
        "def savePng(fileName, htmlName): #나중에 공부 \r\n",
        "  script, path = sys.argv\r\n",
        "  samsonFiles = listExtFiles(path, '.samson')\r\n",
        "  htmlFiles = listExtFiles(path, '.html')\r\n",
        "  pngFiles = [file[:-5] for file in htmlFiles]\r\n",
        "  for pngFile, htmlFile in zip(pngFiles, htmlFiles):\r\n",
        "    html = os.path.join(path, htmlFile)\r\n",
        "    png = os.path.join(path, pngFile)\r\n",
        "    savePng(png, html)\r\n",
        "  pngFiles = listExtFiles(path, '.png')\r\n",
        "  moveFiles(path, \"html\", htmlFiles)\r\n",
        "  moveFiles(path, \"png\", pngFiles)\r\n",
        "  moveFiles(path, \"samson\", samsonFiles)"
      ],
      "execution_count": null,
      "outputs": []
    }
  ]
}