{
  "nbformat": 4,
  "nbformat_minor": 0,
  "metadata": {
    "colab": {
      "name": "Sklearn_API.ipynb",
      "provenance": [],
      "collapsed_sections": [],
      "toc_visible": true,
      "authorship_tag": "ABX9TyPtWyDEWZbht9QJWbMLq2Dt",
      "include_colab_link": true
    },
    "kernelspec": {
      "name": "python3",
      "display_name": "Python 3"
    }
  },
  "cells": [
    {
      "cell_type": "markdown",
      "metadata": {
        "id": "view-in-github",
        "colab_type": "text"
      },
      "source": [
        "<a href=\"https://colab.research.google.com/github/Lutris98/Cheatsheets/blob/main/Sklearn_API.ipynb\" target=\"_parent\"><img src=\"https://colab.research.google.com/assets/colab-badge.svg\" alt=\"Open In Colab\"/></a>"
      ]
    },
    {
      "cell_type": "markdown",
      "metadata": {
        "id": "rbGPZm7heSLv"
      },
      "source": [
        "#1.EDA"
      ]
    },
    {
      "cell_type": "markdown",
      "metadata": {
        "id": "iXBY8pXfgQ_Q"
      },
      "source": [
        "■ Pandas(with Numpy) "
      ]
    },
    {
      "cell_type": "code",
      "metadata": {
        "id": "AnOAr-Bh8Icm"
      },
      "source": [
        "import pandas as pd"
      ],
      "execution_count": null,
      "outputs": []
    },
    {
      "cell_type": "markdown",
      "metadata": {
        "id": "8WZtfP6DkqpW"
      },
      "source": [
        "• 불러오기"
      ]
    },
    {
      "cell_type": "code",
      "metadata": {
        "id": "JGnkKxAKkpZm"
      },
      "source": [
        "titanic_df=pd.read_csv(’C:\\\\Users\\\\john\\\\titanic_train.csv’) #csv는 ,로 구별한 파일양식 \r\n",
        "from google.colab import drive\r\n",
        "drive.mount('content/gdrive')\r\n",
        "titanic_df=pd.read_csv('/content/gdrive/Mydrive/Dataset/titanic_train.csv')"
      ],
      "execution_count": null,
      "outputs": []
    },
    {
      "cell_type": "markdown",
      "metadata": {
        "id": "SJOqaVa4qOid"
      },
      "source": [
        "• 만들기"
      ]
    },
    {
      "cell_type": "code",
      "metadata": {
        "id": "2qdVh7rTiXIE"
      },
      "source": [
        "df=pd.DataFrame(ndarray,columns=['col1','col2']) \r\n",
        "s=pd.Series(ndarray) #가끔 index불일치로 오류뜰때가 있다\r\n",
        "ndarray=df.values #ndarray가 필요한 작업들이 있다(특히 columns series를 for루프에 넣을 리스트로 만들때)"
      ],
      "execution_count": null,
      "outputs": []
    },
    {
      "cell_type": "markdown",
      "metadata": {
        "id": "D-mM510Jtd9K"
      },
      "source": [
        "• Numpy(list약간확장)"
      ]
    },
    {
      "cell_type": "code",
      "metadata": {
        "id": "pQ38WxS7tdVK"
      },
      "source": [
        "ndarray=np.array([1,2,3]) #list랑 약간 다름 #np.arange(10), np.zeros((3,2))로 편하게 생성가능\r\n",
        "array2=array1.reshape(2,3) #차원변경 #-1넣으면 호환되는 값을 대신 대입"
      ],
      "execution_count": null,
      "outputs": []
    },
    {
      "cell_type": "code",
      "metadata": {
        "id": "fk6KThx5KViq"
      },
      "source": [
        "sort_indices=np.argsort(score_array) \r\n",
        "print(name_array[sort_indices]) #메타데이터가 없는 ndarray에서 활용도 높음"
      ],
      "execution_count": null,
      "outputs": []
    },
    {
      "cell_type": "code",
      "metadata": {
        "id": "hUWhkDLrKSHI"
      },
      "source": [
        "np.dot(A,B) \r\n",
        "np.transpose(A)"
      ],
      "execution_count": null,
      "outputs": []
    },
    {
      "cell_type": "markdown",
      "metadata": {
        "id": "oPCDm7_NeSXG"
      },
      "source": [
        "##1) Basic statistics"
      ]
    },
    {
      "cell_type": "code",
      "metadata": {
        "id": "SYhIs7IXgLAQ"
      },
      "source": [
        "titanic_df.head(3) #직접 보기\r\n",
        "titanic_df.info() #null개수파악, dtype보고 encoding계획 "
      ],
      "execution_count": null,
      "outputs": []
    },
    {
      "cell_type": "code",
      "metadata": {
        "id": "_zjC7Spqq13c"
      },
      "source": [
        "titanic_df.drop(['Age','Sex'],axis=1,inplace=True) #axis와 inplace필수, 잠깐만 뺀다는 점에서 inplace=False도 유용"
      ],
      "execution_count": null,
      "outputs": []
    },
    {
      "cell_type": "markdown",
      "metadata": {
        "id": "dREjuq3YKeru"
      },
      "source": [
        "##2) Basic feature engineering"
      ]
    },
    {
      "cell_type": "code",
      "metadata": {
        "id": "iP3tKKZOqxrb"
      },
      "source": [
        "titanic_df['New_feature']=[1,2,3] #칼럼 추가\r\n",
        "titanic_df['Family']=titianic_df['SibSp']*10+titanic_df['Parch']\r\n",
        "titanic_df['Name_len']=titanic_df['Name'].apply(lambda:len(x)) #len(titanic['Name])이 아니라 apply lambda"
      ],
      "execution_count": null,
      "outputs": []
    },
    {
      "cell_type": "markdown",
      "metadata": {
        "id": "ADdMtgn34EZV"
      },
      "source": [
        "• 불린 인덱싱"
      ]
    },
    {
      "cell_type": "code",
      "metadata": {
        "id": "PirHhQFKuBco"
      },
      "source": [
        "titanic_boolean=titanic_df[(titanic_df['Age']>60)&(titanic_df['Sex']=='female')] #새로운 dataframe만들때\r\n",
        "df.loc[(df.Age>15)&(df.Age<=30), 'Age_band']=2 #새로운 feature만들때\r\n",
        "df.iloc[-251:-1,2:4] #이름을 직접적기 불편할때  "
      ],
      "execution_count": null,
      "outputs": []
    },
    {
      "cell_type": "markdown",
      "metadata": {
        "id": "6eIXTVPueShH"
      },
      "source": [
        "#2.Preprocessing"
      ]
    },
    {
      "cell_type": "markdown",
      "metadata": {
        "id": "i5XqWUcjMzA-"
      },
      "source": [
        "가장 먼저 dtype먼저 분류<br>\r\n",
        "mixed는 미리 분리해 각각의 feature로 만들기 "
      ]
    },
    {
      "cell_type": "code",
      "metadata": {
        "id": "WjSeyYpNM23E"
      },
      "source": [
        "discrete=[var for var in df.columns if df[var].dtype!='o' and var!='Survived' and df[var].nunique()<10] #categorical \r\n",
        "continuous=[var for var in df.columns if df[var].dtype!='o' and var!='Survived' and var not in discrete]\r\n",
        "categorical=[var for var in df.columns if df[var].dtype=='o'] #순서있으면 ordinal,없으면 nominal"
      ],
      "execution_count": null,
      "outputs": []
    },
    {
      "cell_type": "markdown",
      "metadata": {
        "id": "fdoN8z0Qag0y"
      },
      "source": [
        "##Visualization\r\n",
        "sns는 dataframe에 맞춘 형태(feature명입력)<br>\r\n",
        "plt는 좌표입력"
      ]
    },
    {
      "cell_type": "code",
      "metadata": {
        "id": "MuFroDhZfbb3"
      },
      "source": [
        "import matplotlib.pyplot as plt\r\n",
        "import seaborn as sns\r\n",
        "fig=plt.figure(figsize=(10,5)) #계속 똑같은 형태로 구현하기\r\n",
        "fig.add_subplot(311)\r\n",
        "sns.countplot(df,x='Pclass')\r\n",
        "sns.histplot(df,x='Age') #displot안되니까 hist,kde로 나눌수 밖에\r\n",
        "sns.kdeplot(df,x='Age')\r\n",
        "sns.barplot(df,x='Cabin',y='Survived')\r\n",
        "plt.plot(df.index,y_test,color='red',label='real')\r\n",
        "plt.title('Real')\r\n",
        "plt.ylabel('Price')\r\n",
        "plt.yticks(range(50,100,10),rotation=60,fontsize='medium')\r\n",
        "plt.tightlayout() #간격조절은 항상 마지막\r\n",
        "plt.show()"
      ],
      "execution_count": null,
      "outputs": []
    },
    {
      "cell_type": "markdown",
      "metadata": {
        "id": "dXN4rlHWRBK5"
      },
      "source": [
        "##1) Imputation\r\n",
        "모든 var의 문제/모든 model에 필수<br>\r\n",
        "- 5%보다 크면 not at random 가능성 커지니<br>\r\n",
        "numerical은 median+indicator추가(skewed일때 median이 최선)<br>\r\n",
        "categorical은 frequent+missing label<br>\r\n",
        "해서 원인 보정<br>\r\n",
        "- 작으면 median/frequent으로 끝냄<br>\r\n",
        "- 수집과정 분석이용 arbitrary imputation도 괜찮<br>\r\n",
        "cf)End of tail 방식은 보통 99,-99등으로 해두는 게 국룰<br>\r\n",
        "+KNNImputer나 IterativeImputer도 똑같이 활용가능(Multivariate)"
      ]
    },
    {
      "cell_type": "code",
      "metadata": {
        "id": "GHP1HP3gOwIq"
      },
      "source": [
        "df.isnull.sum()"
      ],
      "execution_count": null,
      "outputs": []
    },
    {
      "cell_type": "code",
      "metadata": {
        "id": "Yun-nj9NPBNa"
      },
      "source": [
        "from sklearn.impute import SimpleImputer,MissingIndicator #Sklearn패키지는 numpy반환해서 살짝 불편\r\n",
        "imputer=SimpleImputer(strategy='median') #strategy=most_frequent,strategy='constant',fil_value=-99\r\n",
        "df[columns]=imputer.fit_transform(df[columns]) \r\n",
        "MissingIndicator().fit_transform(df[columns])"
      ],
      "execution_count": null,
      "outputs": []
    },
    {
      "cell_type": "code",
      "metadata": {
        "id": "lNE3UEDyPFL9"
      },
      "source": [
        "from sklearn.impute import KNNImputer\r\n",
        "knn_imp=KNNImputer(n_neighbors=2)\r\n",
        "ndarray=df['Cabin'].values\r\n",
        "imputed=knn_imp.fit_transform(ndarray)\r\n",
        "imputed_df=pd.Series(imputed,index=df.index)"
      ],
      "execution_count": null,
      "outputs": []
    },
    {
      "cell_type": "markdown",
      "metadata": {
        "id": "bsKhdQ5-eSd_"
      },
      "source": [
        "##2) Encoding\r\n",
        "category만의 문제/모든 model에 필수<br>\r\n",
        "category를 numerical로 바꿔주는 작업(기계적으로)<br>\r\n",
        "\r\n",
        "ordinal이면 LabelEncoder<br>\r\n",
        "nominal이면 \r\n",
        "- Onehotencoding of top categories(정보손실있지만 feature space 너무 커지는 거 방지)<br>\r\n",
        "- Frequency encoding(빈도까지 고려가능)\r\n",
        "- monotonic함 반영한 encoding(linear model들이 좋아함)<br>\r\n",
        "weight of evidence 활용한 방식도 있음(ln(good%/bad%))\r\n"
      ]
    },
    {
      "cell_type": "code",
      "metadata": {
        "id": "sO-8kUzsQyO1"
      },
      "source": [
        "from sklearn.preprocessing import LabelEncoder\r\n",
        "le=LabelEncoder().fit_transform(df[ordinal])"
      ],
      "execution_count": null,
      "outputs": []
    },
    {
      "cell_type": "code",
      "metadata": {
        "id": "pQ7LlLNuQrWT"
      },
      "source": [
        "top10=[x for x in df[var].value_counts.sort_values(ascending=False).head(10).index]\r\n",
        "pd.get_dummies(df[top10])"
      ],
      "execution_count": null,
      "outputs": []
    },
    {
      "cell_type": "code",
      "metadata": {
        "id": "S1XM_aJ_Q1CT"
      },
      "source": [
        "dic=df['Neighborhood'].value_counts().to_dict() #frequency같으면 같아진다는 단점\r\n",
        "df['Neighborhood']=df['Neighborhood'].map(dic)"
      ],
      "execution_count": null,
      "outputs": []
    },
    {
      "cell_type": "code",
      "metadata": {
        "id": "A0nBSIcPRZx1"
      },
      "source": [
        "label=df.groupby(['Neighborhood'])['SalePrice'].mean().sort_values(ascending=False).index #groupby로 만들면 index애용하자\r\n",
        "ordinal_dict={k:i for i,k in enumerate(label)} #dict도 이렇게 가능\r\n",
        "df['Neighborhood_mono']=df['Neighborhood'].map(ordinal_dict)"
      ],
      "execution_count": null,
      "outputs": []
    },
    {
      "cell_type": "markdown",
      "metadata": {
        "id": "FrClhaqzeSm2"
      },
      "source": [
        "##3) Discretization/Scaling\r\n"
      ]
    },
    {
      "cell_type": "markdown",
      "metadata": {
        "id": "earGfSHGRg_u"
      },
      "source": [
        "• Discretization<br>\r\n",
        "category만의 문제/Tree기반model들이 좋아함<br>\r\n",
        "Cardinality&Rare labels -> train,test중 하나에만 들어가서 overfitting<br>\r\n",
        "- Encoding까지 같이하거나<br>\r\n",
        "- Tree로 monotonic하게 만들거나(Linear model들만 좋아함)<br>\r\n",
        "- 직접 설정해주거나<br>"
      ]
    },
    {
      "cell_type": "code",
      "metadata": {
        "id": "tBWtYBAbPKDK"
      },
      "source": [
        "df[categorical+mixed].nunique() #cardinality,rare labels조사"
      ],
      "execution_count": null,
      "outputs": []
    },
    {
      "cell_type": "code",
      "metadata": {
        "id": "JQBpc3YUPlDe"
      },
      "source": [
        "from sklearn.preprocessing import KBinsDiscretizer #Encoding까지 같이함\r\n",
        "discretizer=KBinsDiscretizer(n_bins=6,encode='ordinal',strategy='') #encode는 ordinal,onehot/strategy=uniform(width),quantile(sample),kmeans #quantile만 spread향상"
      ],
      "execution_count": null,
      "outputs": []
    },
    {
      "cell_type": "code",
      "metadata": {
        "id": "uYmejmVNRv1t"
      },
      "source": [
        "clf=DecisionTreeClassifier(max_depth=5) #feature하나와 target관계분석\r\n",
        "clf.fit(df['Neighborhood']).to_frame(),df['SalePrice'])\r\n",
        "df['Age_disc']=clf.predict_proba(df['Age'].to_frame())[:,1] #target확률\r\n",
        "disc=pd.concat([df.groupby('Age_disc')['Age'].min(),df.groupby('Age_disc')['Age'].max()],axis=1)"
      ],
      "execution_count": null,
      "outputs": []
    },
    {
      "cell_type": "code",
      "metadata": {
        "id": "NHdc4QGHRv4S"
      },
      "source": [
        "df['Age_bins']=pd.cut(df['Age'],bins=[20,40]) #직접 설정해주기"
      ],
      "execution_count": null,
      "outputs": []
    },
    {
      "cell_type": "markdown",
      "metadata": {
        "id": "vWNsTaWNRoTl"
      },
      "source": [
        "• Scaling<br>\r\n",
        "numerical만의 문제/Tree기반model빼고 좋아함<br>\r\n",
        "target은 필수, 분포가 편향적인 것을 정규분포가깝게(feature끼리 scale 다르면 coef바뀜(feature importance 왜곡,속도문제)<br>\r\n",
        "Outlier 적으면 직접 평균값으로 바꿔주기도 함 "
      ]
    },
    {
      "cell_type": "code",
      "metadata": {
        "id": "M4sfZVaHKGpj"
      },
      "source": [
        "titanic_df.describe() #눈으로 outlier확인가능\r\n",
        "sns.boxplot(data=df[discrete+continuous])"
      ],
      "execution_count": null,
      "outputs": []
    },
    {
      "cell_type": "code",
      "metadata": {
        "id": "whP2zGIPQW_V"
      },
      "source": [
        "from sklearn.preprocessing import MinMaxScaler,StandardScaler\r\n",
        "scaled_df=MinMaxScaler().fit_transform(df)\r\n",
        "df['count']=np.log1p(df['count']) #마지막 pred값을 expm1로 돌려놓기"
      ],
      "execution_count": null,
      "outputs": []
    },
    {
      "cell_type": "code",
      "metadata": {
        "id": "Crn6PBvxRdjv"
      },
      "source": [
        "quantile_75=df['windspeed'].quantile(0.75)\r\n",
        "iqr=quantile_75-quantile_25\r\n",
        "df['windspeed'].loc(df['windspeed']>quantile_75+iqr*1.5)=df['windspeed'].mean()"
      ],
      "execution_count": null,
      "outputs": []
    },
    {
      "cell_type": "markdown",
      "metadata": {
        "id": "4NTIu6eMPvEM"
      },
      "source": [
        "##4) Feature selection\r\n"
      ]
    },
    {
      "cell_type": "markdown",
      "metadata": {
        "id": "VjUO77G4sVXr"
      },
      "source": [
        "• SelectKBest<br>\r\n",
        "target과 각 feature의 통계학적 연관성<br>\r\n",
        "- chi2:categorical feature(mutual_info_classif도 가능)<br>\r\n",
        "수학적으로 category값별 target값의 실제값,예측값 비교<br>\r\n",
        "- f_classif:numerical feature<br>\r\n",
        "수학적으로 target별 numerical값의 평균이 다름(ANOVA방식)"
      ]
    },
    {
      "cell_type": "code",
      "metadata": {
        "id": "B-XXUFpgsstj"
      },
      "source": [
        "from sklearn.feature_selection import SelectKBest,chi2,mutual_info_classif,f_classif\r\n",
        "X=SelectKBest(chi2,k=2).fit_transform(X,y) #SelectPercentile(chi2,percentile=10)도 괜찮"
      ],
      "execution_count": null,
      "outputs": []
    },
    {
      "cell_type": "code",
      "metadata": {
        "id": "sXbwOxeuvNtX"
      },
      "source": [
        "df.corr.where(np.triu(np.ones(df.corr)).astype(np.bool_),inplace=True) #upper corr로 만들기(True,1이면 남김) #triangular upper #bool means trueorfalse\r\n",
        "to_drop=[column for column in upper.columns if any(upper[column]>0.9)] #[return값 for문 똑같음 if조건문] #corr matrix를 column단위로 분석\r\n",
        "df.drop(to_drop,inplace=True)"
      ],
      "execution_count": null,
      "outputs": []
    },
    {
      "cell_type": "markdown",
      "metadata": {
        "id": "i14Zi_5YsZ4J"
      },
      "source": [
        "• SequentialFeatureSelector<br>\r\n",
        "-Recursive<br>\r\n",
        "-Forward/Backward<br>"
      ]
    },
    {
      "cell_type": "code",
      "metadata": {
        "id": "ecAjpD_zwBYQ"
      },
      "source": [
        "from mlxtend.feature_selection import SequentialFeatureSelector as SFS\r\n",
        "sfs=SFS(RandomForestRegressor(),forward=False,scoring='neg_mean_squared_error',k_features=10,cv=3)"
      ],
      "execution_count": null,
      "outputs": []
    },
    {
      "cell_type": "markdown",
      "metadata": {
        "id": "CGO7bSFLspZP"
      },
      "source": [
        "• coef_/feature_importances_<br>"
      ]
    },
    {
      "cell_type": "code",
      "metadata": {
        "id": "-AscEIybwgAu"
      },
      "source": [
        "sel=SelectFromModel(Lasso(alpha=100))\r\n",
        "sel.fit(X,y)\r\n",
        "X=X[sel.get_support()] #get_support는 객체반환(직접해봐야알듯)"
      ],
      "execution_count": null,
      "outputs": []
    },
    {
      "cell_type": "code",
      "metadata": {
        "id": "DGr-HO6ZwgFL"
      },
      "source": [
        "importances=pd.Series(rf_clf.feature_importances_,index=X.columns) #자체로는 ndarray\r\n",
        "importances.sort_values()\r\n",
        "sns.barplot(x=importances,y=importances.index)"
      ],
      "execution_count": null,
      "outputs": []
    },
    {
      "cell_type": "markdown",
      "metadata": {
        "id": "4bkTBVIVN5Ch"
      },
      "source": [
        "• Dimension reduction(Too many features)<br>\r\n",
        "- PCA<br>\r\n",
        "공분산행렬(symmetric)을 EVD, 고유값 첫번째, 두번째큰 고유벡터로 분해<br>\r\n",
        "- Truncated SVD<br> \r\n",
        "PCA와 다르게 rectangular로 확장<br>\r\n",
        "∑최소로 diagonal하게 만들고 U,Vt도 맞춰주기<br>\r\n",
        "- LDA<br>\r\n",
        "클래스간 분산최대, 클래스내 분산최소\r\n"
      ]
    },
    {
      "cell_type": "code",
      "metadata": {
        "id": "M5H-L0CsnTtP"
      },
      "source": [
        "from sklearn.decomposition import PCA, Truncated SVD \r\n",
        "from sklearn.dicriminant_analysis import LinearDiscriminantAnalysis\r\n",
        "pca=PCA(n_components=6)\r\n",
        "santander_pca=pca.fit_transform(santander_scaled) #보통 scale하고 적용 #ndarray반환\r\n",
        "pca_columns=['pca1','pca2','pca3','pca4','pca5','pca6']\r\n",
        "santander_df=pd.DataFrame(santander_pca,columns=pca_columns)"
      ],
      "execution_count": null,
      "outputs": []
    },
    {
      "cell_type": "markdown",
      "metadata": {
        "id": "QH2fSRiSeSpW"
      },
      "source": [
        "#3.Modeling"
      ]
    },
    {
      "cell_type": "code",
      "metadata": {
        "id": "s_pCeimd8SR3"
      },
      "source": [
        "from sklearn.model_selection import train_test_split,GridSearchCV, KFold, StratififedKFold #Stratified는 label분포가 치중되었을때(주로 분류)"
      ],
      "execution_count": null,
      "outputs": []
    },
    {
      "cell_type": "code",
      "metadata": {
        "id": "7pPiV3gLomg3"
      },
      "source": [
        "X_train,X_test,y_train,y_test= train_test_split(titanic_feature,titanic_label,test_size=0.2,random_state=0) #X가 먼저 #재현을 위해 randomstate필수"
      ],
      "execution_count": null,
      "outputs": []
    },
    {
      "cell_type": "code",
      "metadata": {
        "id": "sJ_QIIPa9FfC"
      },
      "source": [
        "kfold=KFold(n_splits=5,random_state=0) #5개의 kfold객체 생성 \r\n",
        "for train_index,test_index in kfold.split(titanic_feature,titanic_label): #각 인덱스를 ndarray로 반환 \r\n",
        "  X_train,X_test=titanic_feature[train_index], titanic_feature[test_index]\r\n",
        "  y_train,y_test=titanic_label[train_index], titanic_label[test_index]\r\n",
        "  lgbm_clf.fit(X_train,y_train)\r\n",
        "  cv_accuracy.append(accuracy_score(y_test,lgbm.predict(X_test)))\r\n",
        "  print('cv정확도:',cv_accuracy)\r\n",
        "print('\\n평균cv정확도:',np.mean(cv_accuracy))"
      ],
      "execution_count": null,
      "outputs": []
    },
    {
      "cell_type": "markdown",
      "metadata": {
        "id": "TQx7zY5OhJ4I"
      },
      "source": [
        "■ Tree기반"
      ]
    },
    {
      "cell_type": "code",
      "metadata": {
        "id": "H9jPAE84avbd"
      },
      "source": [
        "from sklearn.ensemble import RandomForestClassifier\r\n",
        "from xgboost import XGBClassifier\r\n",
        "from lightgbm import LGBMClassifier\r\n",
        "from sklearn.linear_model import LogisticRegression"
      ],
      "execution_count": null,
      "outputs": []
    },
    {
      "cell_type": "markdown",
      "metadata": {
        "id": "VgWwmKpRCMVR"
      },
      "source": [
        "• RandomForest(Bagging)<br>\r\n",
        "병렬적으로 결정트리에 bootstrapping된 데이터 학습<br>\r\n",
        "DecisionTree기반 알고리즘은 회귀도 가능(exRandomForestRegressor)"
      ]
    },
    {
      "cell_type": "code",
      "metadata": {
        "id": "Kf2V3cxdbLgB"
      },
      "source": [
        "rf_clf=RandomForestClassifier(random_state=0) #딕셔너리 방식으로 입력\r\n",
        "params={'n_estimators':[100] #100개의 tree에서 나온 확률값 평균\r\n",
        "        'max_depth':[6,8,10] #이하 3개는 결정트리것 그대로\r\n",
        "        'min_samples_leaf':[8,12] #samples수 너무 적을 때까지 않가도록(클수록 과적합방지)\r\n",
        "        'min_samples_split':[8,16] #split기준은 지니계수(한쪽이 우세한 정도라 직관적)\r\n",
        "        }\r\n",
        "rf_gridcv.fit=GridSearchCV(rf_clf,param_grid=params,cv=5)\r\n",
        "rf_gridcv.fit(X_train,y_train)"
      ],
      "execution_count": null,
      "outputs": []
    },
    {
      "cell_type": "markdown",
      "metadata": {
        "id": "U5Yc0JMRCxlT"
      },
      "source": [
        "• XGBoost(Boosting)<br> \r\n",
        "GBM대비 병렬학습가능해 빠르고 과적합규제/가지치기로 split재검토,내부적 교차검증,결손값처리,조기중단"
      ]
    },
    {
      "cell_type": "code",
      "metadata": {
        "id": "B1RhFPoDd_Ai"
      },
      "source": [
        "xgb_clf=XGBClassifier(random_state=0)\r\n",
        "params={'learning_rate':[0.02],\r\n",
        "        'n_estimators':[1000,1500],\r\n",
        "        'max_depth':[3,5,7],\r\n",
        "        'colsample_bytree':[0.7,0.8],\r\n",
        "        'subsample':[0.9]}"
      ],
      "execution_count": null,
      "outputs": []
    },
    {
      "cell_type": "markdown",
      "metadata": {
        "id": "adMD-rJoDI4-"
      },
      "source": [
        "• LightGBM(Boosting)<br> \r\n",
        "XGBoost와 달리 leafwise 분할(시간,공간복잡도 개선, 성능비슷)"
      ]
    },
    {
      "cell_type": "code",
      "metadata": {
        "id": "lLd1KgA4emo-"
      },
      "source": [
        "lgbm_clf=LGBMClassifier(random_state=0)\r\n",
        "params={'learning_rate':[0.02],\r\n",
        "        'n_estimators':[1000,1500],\r\n",
        "        'max_depth':[3,5,7], #leafwise니까 살짝 더 크게\r\n",
        "        'colsample_bytree':[0.7,0.8], \r\n",
        "        'subsample':[0.9]\r\n",
        "        }\r\n",
        "grid_cv.fit=GridSearchCV(lgbm_clf,param_grid=params,cv=5)\r\n",
        "grid_cv.fit(X_train,y_train,early_stopping_rounds=30,eval_metric='auc',eval_set=[(X_train,y_train),(X_test,y_test)] #향상되지 않고 반복할 수 있는 최대횟수 #eval_set은 보통 학습데이터셋말고 다른것 "
      ],
      "execution_count": null,
      "outputs": []
    },
    {
      "cell_type": "markdown",
      "metadata": {
        "id": "YV9OpWGBOD6e"
      },
      "source": [
        "■ 분류 "
      ]
    },
    {
      "cell_type": "markdown",
      "metadata": {
        "id": "ZBlkbrulEIIp"
      },
      "source": [
        "• LogisticRegression<br>\r\n",
        "sigmoid함수반환값을 확률로 간주<br>\r\n",
        "penalty로 규제유형(디폴트는 l2) / C로 alpha역수"
      ]
    },
    {
      "cell_type": "markdown",
      "metadata": {
        "id": "DHuKqjHTpP8Z"
      },
      "source": [
        "• SVC<br>\r\n",
        "feature space에서 가장 넓은 도로를 놓을 수 있는 선(large marginal classifictation)<br>\r\n",
        "도로안에 가장 많은 sample들어가게 하는 선으로 회귀도 가능(파라미터는 epsilon=1.5)<br>\r\n",
        "kernel trick방식은 속도가 좀 느림(유사도나 다항처리나)\r\n",
        "비교적 작은 데이터셋에 적합"
      ]
    },
    {
      "cell_type": "code",
      "metadata": {
        "id": "SDtvhw5kp9p5"
      },
      "source": [
        "from sklearn.svm import LinearSVC,SVC\r\n",
        "svm_clf=LinearSVC(C=1,loss='hinge') #C는 violation, 낮을수록 설명력 향상"
      ],
      "execution_count": null,
      "outputs": []
    },
    {
      "cell_type": "code",
      "metadata": {
        "id": "ibTgbu7uqU8r"
      },
      "source": [
        "svm_clf=SVC(kernel='rbf',C=0.001,gamma=5) #gamma는 높을수록 설명력 향상(각 landmark의 영향력) #landmark와의 유사도(RadialBasisFunction)"
      ],
      "execution_count": null,
      "outputs": []
    },
    {
      "cell_type": "markdown",
      "metadata": {
        "id": "RAr6wrvfN_yZ"
      },
      "source": [
        "• Metric<br>\r\n",
        "confusion matrix에서 FP와 FN줄이기"
      ]
    },
    {
      "cell_type": "code",
      "metadata": {
        "id": "5jAUmOaKbfDC"
      },
      "source": [
        "from sklearn.metrics import recall_score,precision_score,f1_score,roc_auc_score\r\n",
        "def get_clf_eval(real,pred):\r\n",
        "  recall=recall_score(real,pred) #FP줄이고 싶음(암진단모델)\r\n",
        "  precision=precision_score(real,pred) #FN줄이고 싶음(스팸차단모델)\r\n",
        "  f1=f1_score(real,pred) #치우치지 않은 정도\r\n",
        "  auc=roc_auc_score(real,pred) #TPR-FPR그래프에서 TPR이 얼마나 큰지(1에 가까울수록 우수)\r\n",
        "  print('recall score:{0:.4f} / precision score:{1:.4f} / f1 score:{2:.4f} / f1 score:{3:.4f}'.format(recall,precision,f1,auc)) "
      ],
      "execution_count": null,
      "outputs": []
    },
    {
      "cell_type": "markdown",
      "metadata": {
        "id": "JVjebFXVg9Vg"
      },
      "source": [
        "■ 회귀"
      ]
    },
    {
      "cell_type": "markdown",
      "metadata": {
        "id": "LxPi-zahH01N"
      },
      "source": [
        "• PolynomialFeatures<br>\r\n",
        "주어진 변수로 파생변수추가해 설명력향상 but overfit 위험, 변수 너무 많아짐(커봤자 degree3)"
      ]
    },
    {
      "cell_type": "code",
      "metadata": {
        "id": "-JpUlQKdgXdN"
      },
      "source": [
        "from sklearn.preprocessing import PolynomialFeatures\r\n",
        "feature_df=PolynomialFeatures(degree=3).fit_transform(feature_df) "
      ],
      "execution_count": null,
      "outputs": []
    },
    {
      "cell_type": "markdown",
      "metadata": {
        "id": "qUm7Nq90IPDf"
      },
      "source": [
        "• Regulation<br>"
      ]
    },
    {
      "cell_type": "code",
      "metadata": {
        "id": "Rv_6lChihFen"
      },
      "source": [
        "from sklearn.linear_model import Ridge,Lasso,ElasticNet\r\n",
        "Ridge(alpha=0.1).fit(X_train,y_train) #커질수록 설명력 감소 #L2:계수크기규제(RSS+alpha*W2최소화)\r\n",
        "Lasso(alpha=0.1).fit(X_train,y_train) #L1:계수종류규제->feature selection기여(RSS+alpha*W최소화)\r\n",
        "ElasticNet(alpha=0.1,l1_ratio=0.7).fit(X_train,y_train) #alpha는 합 "
      ],
      "execution_count": null,
      "outputs": []
    },
    {
      "cell_type": "markdown",
      "metadata": {
        "id": "zUHG-CFwLYni"
      },
      "source": [
        "• Metric<br>\r\n",
        "MSE, R2"
      ]
    },
    {
      "cell_type": "code",
      "metadata": {
        "id": "neCSQvs0iVAv"
      },
      "source": [
        "from sklearn.metrics import mean_squared_error,r2_score #MSE와 R2\r\n",
        "def get_clf_eval(real,pred):\r\n",
        "  mse=mean_squared_error(real,pred)\r\n",
        "  r2=r2_score(real,pred)\r\n",
        "  print('MSE:{0:.4f} / R2:{1:.4f}'.format(mse,r2)) "
      ],
      "execution_count": null,
      "outputs": []
    },
    {
      "cell_type": "markdown",
      "metadata": {
        "id": "vqKxuakGhI9A"
      },
      "source": [
        "■ 군집화"
      ]
    },
    {
      "cell_type": "markdown",
      "metadata": {
        "id": "uaakBQ1910Kq"
      },
      "source": [
        "• Aggregation<br>\r\n",
        "groupby객체는 새index 기준 group한 것(1~2개)<br>\r\n",
        "특정 feature를 aggregate해서 보여주거나<br>\r\n",
        "여러 feature해서 새 dataframe만들거나<br>"
      ]
    },
    {
      "cell_type": "code",
      "metadata": {
        "id": "HAq4Ztr43K7o"
      },
      "source": [
        "cust_df.groupby(['target','cluster'])['slength'].count() #target과 cluster 관계분석\r\n",
        "iris_df.groupby(['CustomerID']).agg({'InvoiceDate':'max','InvoiceNo':'count','sale_amount':'sum'})"
      ],
      "execution_count": null,
      "outputs": []
    },
    {
      "cell_type": "markdown",
      "metadata": {
        "id": "830n2rodLwqJ"
      },
      "source": [
        "• KMeans<br>\r\n",
        "centroid별 평균중심으로 업데이트"
      ]
    },
    {
      "cell_type": "code",
      "metadata": {
        "id": "COqDuZHhkDhe"
      },
      "source": [
        "from sklearn.cluster import KMeans\r\n",
        "kmeans_cls=KMeans(n_clusters=3,max_iter=300)\r\n",
        "label=kmeans_cls.fit_predict(test_df)\r\n",
        "iris_df['cluster']=pd.Series(label,index=iris_df.index) #index설정안해서 한시간 버림\r\n",
        "iris_df.groupby(['target','cluster'])['slength'].count #꼭 두개씩 group해야 의미있음,count써야함(groupby객체반환) "
      ],
      "execution_count": null,
      "outputs": []
    },
    {
      "cell_type": "markdown",
      "metadata": {
        "id": "2jESWZ5gL5-Z"
      },
      "source": [
        "• MeansShift<br>\r\n",
        "centroid별 밀도중심으로 업데이트(KernelDensityFunction)"
      ]
    },
    {
      "cell_type": "code",
      "metadata": {
        "id": "6bEAaVxIl8VU"
      },
      "source": [
        "from sklearn.cluster import MeanShift, estimate_bandwidth\r\n",
        "meanshift_cls=MeanShift(bandwidth=estimate_bandwidth) #최적의 bandwidth값 return(작아야 설명력 향상)"
      ],
      "execution_count": null,
      "outputs": []
    },
    {
      "cell_type": "markdown",
      "metadata": {
        "id": "6huztqVjMAFB"
      },
      "source": [
        "• DBSCAN<br>"
      ]
    },
    {
      "cell_type": "code",
      "metadata": {
        "id": "f-iG0gQ8mees"
      },
      "source": [
        "from sklearn.cluster import DBSCAN #min_samples 넘는 corepoint끼리 연결/적으면 borderpoint거나 noise\r\n",
        "dbscan=DBSCAN(eps=0.6,min_samples=8,metric='euclidean') #eps클수록 border많아짐/min_samples클수록 core적어짐"
      ],
      "execution_count": null,
      "outputs": []
    },
    {
      "cell_type": "markdown",
      "metadata": {
        "id": "pSnoA2P84s4h"
      },
      "source": [
        "• 시각화<br>\r\n",
        "무조건 2개로 차원축소"
      ]
    },
    {
      "cell_type": "code",
      "metadata": {
        "id": "7YAXxxhezMyl"
      },
      "source": [
        "pca_transformed=pca.fit_transform(iris_df)\r\n",
        "iris_df['x']=pca_transformed[:,0]\r\n",
        "iris_df['y']=pca_transformed[:,1]\r\n",
        "ind0=iris_df[iris_df['cluster']==0].index\r\n",
        "ind1=iris_df[iris_df['cluster']==1].index\r\n",
        "plt.scatter(x=iris_df.loc[ind0,'x'],y=iris_df.loc[ind0,'y'])\r\n",
        "plt.scatter(x=iris_df.loc[ind1,'x'],y=iris_df.loc[ind1,'y'])"
      ],
      "execution_count": null,
      "outputs": []
    },
    {
      "cell_type": "markdown",
      "metadata": {
        "id": "4mhQEW-9NgNU"
      },
      "source": [
        "• Metric<br>\r\n",
        "silhouette coef<br>\r\n",
        "각 데이터마다 b-a/max(b,a) / a는 클러스터내 평균거리, b는 최근접 클러스터내 평균거리<br>\r\n",
        "군집별 silhouette_sample이 관심\r\n"
      ]
    },
    {
      "cell_type": "code",
      "metadata": {
        "id": "KRw3ZA4Ik_fv"
      },
      "source": [
        "from sklearn.metrics import silhouette_samples\r\n",
        "scores=silhouette_samples(feature_df,iris_df['cluster']) #특이하게 feature와 label입력 #모든 데이터의 score저장(1일수록 우수)\r\n",
        "iris_df['score']=pd.Series(scores,index=iris_df.index)"
      ],
      "execution_count": null,
      "outputs": []
    }
  ]
}