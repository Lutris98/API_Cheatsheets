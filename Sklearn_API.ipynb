{
  "nbformat": 4,
  "nbformat_minor": 0,
  "metadata": {
    "colab": {
      "name": "Sklearn_API.ipynb",
      "provenance": [],
      "collapsed_sections": [],
      "authorship_tag": "ABX9TyMWqx1E/u/LvzmNylpWm8s5",
      "include_colab_link": true
    },
    "kernelspec": {
      "name": "python3",
      "display_name": "Python 3"
    }
  },
  "cells": [
    {
      "cell_type": "markdown",
      "metadata": {
        "id": "view-in-github",
        "colab_type": "text"
      },
      "source": [
        "<a href=\"https://colab.research.google.com/github/Lutris98/API_Cheatsheets/blob/main/Sklearn_API.ipynb\" target=\"_parent\"><img src=\"https://colab.research.google.com/assets/colab-badge.svg\" alt=\"Open In Colab\"/></a>"
      ]
    },
    {
      "cell_type": "markdown",
      "metadata": {
        "id": "o913C60tud2B"
      },
      "source": [
        "Pandas ver1.2.1<br>\r\n",
        "Sklearn ver0.24.1"
      ]
    },
    {
      "cell_type": "markdown",
      "metadata": {
        "id": "rbGPZm7heSLv"
      },
      "source": [
        "#1.EDA"
      ]
    },
    {
      "cell_type": "markdown",
      "metadata": {
        "id": "iXBY8pXfgQ_Q"
      },
      "source": [
        "■ Pandas(with Numpy) "
      ]
    },
    {
      "cell_type": "code",
      "metadata": {
        "id": "AnOAr-Bh8Icm"
      },
      "source": [
        "import pandas as pd"
      ],
      "execution_count": null,
      "outputs": []
    },
    {
      "cell_type": "markdown",
      "metadata": {
        "id": "8WZtfP6DkqpW"
      },
      "source": [
        "•불러오기"
      ]
    },
    {
      "cell_type": "code",
      "metadata": {
        "id": "JGnkKxAKkpZm"
      },
      "source": [
        "titanic_df=pd.read_csv(’C:\\\\Users\\\\john\\\\titanic_train.csv’) #csv는 ,로 구별한 파일양식 \r\n",
        "from google.colab import drive\r\n",
        "drive.mount('content/gdrive')\r\n",
        "titanic_df=pd.read_csv('/content/gdrive/Mydrive/Dataset/titanic_train.csv')"
      ],
      "execution_count": null,
      "outputs": []
    },
    {
      "cell_type": "markdown",
      "metadata": {
        "id": "SJOqaVa4qOid"
      },
      "source": [
        "•만들기"
      ]
    },
    {
      "cell_type": "code",
      "metadata": {
        "id": "2qdVh7rTiXIE"
      },
      "source": [
        "df=pd.DataFrame(ndarray,columns=['col1','col2']) \r\n",
        "ndarray=df.values #ndarray가 필요한 작업들이 있다(특히 columns series를 for루프에 넣을 리스트로 만들때)"
      ],
      "execution_count": null,
      "outputs": []
    },
    {
      "cell_type": "markdown",
      "metadata": {
        "id": "D-mM510Jtd9K"
      },
      "source": [
        "•Numpy(list약간확장)"
      ]
    },
    {
      "cell_type": "code",
      "metadata": {
        "id": "pQ38WxS7tdVK"
      },
      "source": [
        "ndarray=np.array([1,2,3]) #list랑 약간 다름 #np.arange(10), np.zeros((3,2))로 편하게 생성가능\r\n",
        "array2=array1.reshape(2,3) #차원변경 #-1넣으면 호환되는 값을 대신 대입"
      ],
      "execution_count": null,
      "outputs": []
    },
    {
      "cell_type": "code",
      "metadata": {
        "id": "fk6KThx5KViq"
      },
      "source": [
        "sort_indices=np.argsort(score_array) \r\n",
        "print(name_array[sort_indices]) #메타데이터가 없는 ndarray에서 활용도 높음"
      ],
      "execution_count": null,
      "outputs": []
    },
    {
      "cell_type": "code",
      "metadata": {
        "id": "hUWhkDLrKSHI"
      },
      "source": [
        "np.dot(A,B) \r\n",
        "np.transpose(A)"
      ],
      "execution_count": null,
      "outputs": []
    },
    {
      "cell_type": "markdown",
      "metadata": {
        "id": "oPCDm7_NeSXG"
      },
      "source": [
        "##1)Basic statistics"
      ]
    },
    {
      "cell_type": "code",
      "metadata": {
        "id": "SYhIs7IXgLAQ"
      },
      "source": [
        "titanic_df.head(3) #상위 세건 직접 보기\r\n",
        "titanic_df.info() #shape,dtype,Null개수 \r\n",
        "titanic_df.describe() #기초통계량"
      ],
      "execution_count": null,
      "outputs": []
    },
    {
      "cell_type": "markdown",
      "metadata": {
        "id": "R6Lgu5IpeSZf"
      },
      "source": [
        "##2)Dropping&Creating features"
      ]
    },
    {
      "cell_type": "code",
      "metadata": {
        "id": "_zjC7Spqq13c"
      },
      "source": [
        "titanic_df.drop(['Age','Sex'],axis=1,inplace=True) #axis필수,웬만하면 inplace"
      ],
      "execution_count": null,
      "outputs": []
    },
    {
      "cell_type": "code",
      "metadata": {
        "id": "iP3tKKZOqxrb"
      },
      "source": [
        "titanic_df['New_feature']=[1,2,3] #칼럼 추가\r\n",
        "titanic_df['Family']=titianic_df['SibSp']*10+titanic_df['Parch']\r\n",
        "titanic_df['Name_len']=titanic_df['Name'].apply(lambda:len(x)) #len(titanic['Name])이 아니라 apply lambda"
      ],
      "execution_count": null,
      "outputs": []
    },
    {
      "cell_type": "markdown",
      "metadata": {
        "id": "ADdMtgn34EZV"
      },
      "source": [
        "•불린 인덱싱"
      ]
    },
    {
      "cell_type": "code",
      "metadata": {
        "id": "PirHhQFKuBco"
      },
      "source": [
        "titanic_boolean=titanic_df[(titanic_df['Age']>60)&(titanic_df['Sex']=='female')] #새로운 dataframe만들때\r\n",
        "df.loc[(df.Age>15)&(df.Age<=30), 'Age_band']=2 #새로운 feature만들때"
      ],
      "execution_count": null,
      "outputs": []
    },
    {
      "cell_type": "markdown",
      "metadata": {
        "id": "bsKhdQ5-eSd_"
      },
      "source": [
        "##3)Encoding"
      ]
    },
    {
      "cell_type": "code",
      "metadata": {
        "id": "e2VQkJOT8MPY"
      },
      "source": [
        "from sklearn.preprocessing import LabelEncoder"
      ],
      "execution_count": null,
      "outputs": []
    },
    {
      "cell_type": "markdown",
      "metadata": {
        "id": "6eIXTVPueShH"
      },
      "source": [
        "#2.Preprocessing(with Visualization)"
      ]
    },
    {
      "cell_type": "code",
      "metadata": {
        "id": "MuFroDhZfbb3"
      },
      "source": [
        "import matplotlib.pyplot as plt\r\n",
        "import seaborn as sns"
      ],
      "execution_count": null,
      "outputs": []
    },
    {
      "cell_type": "code",
      "metadata": {
        "id": "1AcZvJL8Df_T"
      },
      "source": [
        "fig,ax=plt.subplots(figsize=(16,8),ncols=4,nrows=2) #figsize로 figure객체의 픽셀조절 #subplot은 위치값인 axs도\r\n",
        "features=['RM','ZN','INDUS']\r\n",
        "for i,feature in enumerate(features):\r\n",
        "    row=int(i/4) #각 figure배치는 직접 ax보고 확인\r\n",
        "    col=i%4\r\n",
        "    sns.regplot(data=bostonDF,X=feature,y='PRICE',ax=axs[row][col]) #간단한 회귀계산에 그래프까지\r\n"
      ],
      "execution_count": null,
      "outputs": []
    },
    {
      "cell_type": "markdown",
      "metadata": {
        "id": "D9c_Y1nYeSkR"
      },
      "source": [
        "##1)Null filling"
      ]
    },
    {
      "cell_type": "code",
      "metadata": {
        "id": "II3peZ40srzx"
      },
      "source": [
        "titanic_df['Cabin']=titanic_df['Cabin'].fillna(0)\r\n",
        "titanic_df['Cabin'].isna().sum() #확인"
      ],
      "execution_count": null,
      "outputs": []
    },
    {
      "cell_type": "markdown",
      "metadata": {
        "id": "FrClhaqzeSm2"
      },
      "source": [
        "##2)Scaling&Outlier removal"
      ]
    },
    {
      "cell_type": "markdown",
      "metadata": {
        "id": "4NTIu6eMPvEM"
      },
      "source": [
        "##3)Dimension reduction"
      ]
    },
    {
      "cell_type": "markdown",
      "metadata": {
        "id": "lCA8TzsfP4pX"
      },
      "source": [
        "•PCA<br>\r\n",
        "공분산행렬(symmetric)을 EVD, 고유값 첫번째, 두번째큰 고유벡터로 분해 "
      ]
    },
    {
      "cell_type": "markdown",
      "metadata": {
        "id": "j5Fkof7qQGQ3"
      },
      "source": [
        "•Truncated SVD<br> \r\n",
        "PCA와 다르게 rectangular로 확장<br>\r\n",
        "∑최소로 diagonal하게 만들고 U,Vt도 맞춰주기"
      ]
    },
    {
      "cell_type": "markdown",
      "metadata": {
        "id": "TwlL4LokQVZn"
      },
      "source": [
        "•LDA<br>\r\n",
        "클래스간 분산최대, 클래스내 분산최소"
      ]
    },
    {
      "cell_type": "markdown",
      "metadata": {
        "id": "QH2fSRiSeSpW"
      },
      "source": [
        "#3.Modeling"
      ]
    },
    {
      "cell_type": "code",
      "metadata": {
        "id": "s_pCeimd8SR3"
      },
      "source": [
        "from sklearn.model_selection import train_test_split,GridSearchCV, KFold, StratififedKFold #Stratified는 label분포가 치중되었을때(주로 분류)"
      ],
      "execution_count": null,
      "outputs": []
    },
    {
      "cell_type": "code",
      "metadata": {
        "id": "7pPiV3gLomg3"
      },
      "source": [
        "X_train,X_test,y_train,y_test= train_test_split(titanic_feature,titanic_label,test_size=0.2,random_state=0) #X가 먼저 #재현을 위해 randomstate필수"
      ],
      "execution_count": null,
      "outputs": []
    },
    {
      "cell_type": "code",
      "metadata": {
        "id": "sJ_QIIPa9FfC"
      },
      "source": [
        "kfold=KFold(n_splits=5,random_state=0) #5개의 kfold객체 생성 \r\n",
        "for train_index,test_index in kfold.split(titanic_feature,titanic_label): #각 인덱스를 ndarray로 반환 \r\n",
        "  X_train,X_test=titanic_feature[train_index], titanic_feature[test_index]\r\n",
        "  y_train,y_test=titanic_label[train_index], titanic_label[test_index]\r\n",
        "  lgbm_clf.fit(X_train,y_train)\r\n",
        "  cv_accuracy.append(accuracy_score(y_test,lgbm.predict(X_test)))\r\n",
        "  print('cv정확도:',cv_accuracy)\r\n",
        "print('\\n평균cv정확도:',np.mean(cv_accuracy))"
      ],
      "execution_count": null,
      "outputs": []
    },
    {
      "cell_type": "markdown",
      "metadata": {
        "id": "TQx7zY5OhJ4I"
      },
      "source": [
        "■ 분류"
      ]
    },
    {
      "cell_type": "markdown",
      "metadata": {
        "id": "VgWwmKpRCMVR"
      },
      "source": [
        "• RandomForest(Bagging)<br>\r\n",
        "병렬적으로 결정트리에 bootstrapping된 데이터 학습"
      ]
    },
    {
      "cell_type": "markdown",
      "metadata": {
        "id": "U5Yc0JMRCxlT"
      },
      "source": [
        "•XGBoost(Boosting)<br> \r\n",
        "GBM대비 병렬학습가능해 빠르고 과적합규제/가지치기로 split재검토,내부적 교차검증,결손값처리,조기중단"
      ]
    },
    {
      "cell_type": "markdown",
      "metadata": {
        "id": "adMD-rJoDI4-"
      },
      "source": [
        "•LightGBM(Boosting)<br> \r\n",
        "XGBoost와 달리 leafwise 분할(시간,공간복잡도 개선, 성능비슷)"
      ]
    },
    {
      "cell_type": "markdown",
      "metadata": {
        "id": "ZBlkbrulEIIp"
      },
      "source": [
        "•LogisticRegression<br>\r\n",
        "sigmoid함수반환값을 확률로 간주"
      ]
    },
    {
      "cell_type": "markdown",
      "metadata": {
        "id": "RAr6wrvfN_yZ"
      },
      "source": [
        "•Metric<br>\r\n",
        "confusion matrix에서 FP와 FN줄이기"
      ]
    },
    {
      "cell_type": "markdown",
      "metadata": {
        "id": "JVjebFXVg9Vg"
      },
      "source": [
        "■ 회귀"
      ]
    },
    {
      "cell_type": "markdown",
      "metadata": {
        "id": "5n_vzggnDXFN"
      },
      "source": [
        "•Scaling<br>\r\n",
        "Feature,Target을 로그변환"
      ]
    },
    {
      "cell_type": "markdown",
      "metadata": {
        "id": "LxPi-zahH01N"
      },
      "source": [
        "•PolynomialFeatures<br>\r\n",
        "파생변수추가해 설명력향상 but overfit 위험"
      ]
    },
    {
      "cell_type": "markdown",
      "metadata": {
        "id": "qUm7Nq90IPDf"
      },
      "source": [
        "•Regulation<br>"
      ]
    },
    {
      "cell_type": "markdown",
      "metadata": {
        "id": "zUHG-CFwLYni"
      },
      "source": [
        "•Metric<br>\r\n",
        "MSE, R2"
      ]
    },
    {
      "cell_type": "markdown",
      "metadata": {
        "id": "vqKxuakGhI9A"
      },
      "source": [
        "■ 군집화"
      ]
    },
    {
      "cell_type": "markdown",
      "metadata": {
        "id": "830n2rodLwqJ"
      },
      "source": [
        "•Kmeans<br>"
      ]
    },
    {
      "cell_type": "markdown",
      "metadata": {
        "id": "2jESWZ5gL5-Z"
      },
      "source": [
        "•MeansShift<br>"
      ]
    },
    {
      "cell_type": "markdown",
      "metadata": {
        "id": "6huztqVjMAFB"
      },
      "source": [
        "•DBSCAN<br>"
      ]
    },
    {
      "cell_type": "markdown",
      "metadata": {
        "id": "4mhQEW-9NgNU"
      },
      "source": [
        "•Metric<br>\r\n",
        "silhouette"
      ]
    }
  ]
}