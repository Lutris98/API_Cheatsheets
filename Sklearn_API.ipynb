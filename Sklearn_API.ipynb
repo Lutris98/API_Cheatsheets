{
  "nbformat": 4,
  "nbformat_minor": 0,
  "metadata": {
    "colab": {
      "name": "Sklearn_API.ipynb",
      "provenance": [],
      "collapsed_sections": [],
      "authorship_tag": "ABX9TyNng4jCfx1IGpXR/fLW6/m7",
      "include_colab_link": true
    },
    "kernelspec": {
      "name": "python3",
      "display_name": "Python 3"
    }
  },
  "cells": [
    {
      "cell_type": "markdown",
      "metadata": {
        "id": "view-in-github",
        "colab_type": "text"
      },
      "source": [
        "<a href=\"https://colab.research.google.com/github/Lutris98/API_Cheatsheets/blob/main/Sklearn_API.ipynb\" target=\"_parent\"><img src=\"https://colab.research.google.com/assets/colab-badge.svg\" alt=\"Open In Colab\"/></a>"
      ]
    },
    {
      "cell_type": "markdown",
      "metadata": {
        "id": "o913C60tud2B"
      },
      "source": [
        "Pandas ver1.2.1<br>\r\n",
        "Sklearn ver0.24.1"
      ]
    },
    {
      "cell_type": "markdown",
      "metadata": {
        "id": "rbGPZm7heSLv"
      },
      "source": [
        "#1.EDA"
      ]
    },
    {
      "cell_type": "markdown",
      "metadata": {
        "id": "iXBY8pXfgQ_Q"
      },
      "source": [
        "■ Pandas(with Numpy) "
      ]
    },
    {
      "cell_type": "code",
      "metadata": {
        "id": "AnOAr-Bh8Icm"
      },
      "source": [
        "import pandas as pd"
      ],
      "execution_count": null,
      "outputs": []
    },
    {
      "cell_type": "markdown",
      "metadata": {
        "id": "8WZtfP6DkqpW"
      },
      "source": [
        "•불러오기"
      ]
    },
    {
      "cell_type": "code",
      "metadata": {
        "id": "JGnkKxAKkpZm"
      },
      "source": [
        "titanic_df=pd.read_csv(’C:\\\\Users\\\\john\\\\titanic_train.csv’) #csv는 ,로 구별한 파일양식 \r\n",
        "from google.colab import drive\r\n",
        "drive.mount('content/gdrive')\r\n",
        "titanic_df=pd.read_csv('/content/gdrive/Mydrive/Dataset/titanic_train.csv')"
      ],
      "execution_count": null,
      "outputs": []
    },
    {
      "cell_type": "markdown",
      "metadata": {
        "id": "SJOqaVa4qOid"
      },
      "source": [
        "•만들기"
      ]
    },
    {
      "cell_type": "code",
      "metadata": {
        "id": "2qdVh7rTiXIE"
      },
      "source": [
        "df=pd.DataFrame(ndarray,columns=['col1','col2']) \r\n",
        "ndarray=df.values #ndarray가 필요한 작업들이 있다(특히 columns series를 for루프에 넣을 리스트로 만들때)"
      ],
      "execution_count": null,
      "outputs": []
    },
    {
      "cell_type": "markdown",
      "metadata": {
        "id": "D-mM510Jtd9K"
      },
      "source": [
        "•Numpy(list약간확장)"
      ]
    },
    {
      "cell_type": "code",
      "metadata": {
        "id": "pQ38WxS7tdVK"
      },
      "source": [
        "ndarray=np.array([1,2,3]) #list랑 약간 다름 #np.arange(10), np.zeros((3,2))로 편하게 생성가능\r\n",
        "array2=array1.reshape(2,3) #차원변경 #-1넣으면 호환되는 값을 대신 대입"
      ],
      "execution_count": null,
      "outputs": []
    },
    {
      "cell_type": "code",
      "metadata": {
        "id": "fk6KThx5KViq"
      },
      "source": [
        "sort_indices=np.argsort(score_array) \r\n",
        "print(name_array[sort_indices]) #메타데이터가 없는 ndarray에서 활용도 높음"
      ],
      "execution_count": null,
      "outputs": []
    },
    {
      "cell_type": "code",
      "metadata": {
        "id": "hUWhkDLrKSHI"
      },
      "source": [
        "np.dot(A,B) \r\n",
        "np.transpose(A)"
      ],
      "execution_count": null,
      "outputs": []
    },
    {
      "cell_type": "markdown",
      "metadata": {
        "id": "oPCDm7_NeSXG"
      },
      "source": [
        "##1)Basic statistics"
      ]
    },
    {
      "cell_type": "code",
      "metadata": {
        "id": "SYhIs7IXgLAQ"
      },
      "source": [
        "titanic_df.head(3) #상위 세건 직접 보기\r\n",
        "titanic_df.info() #dtype,Null개수,outlier\r\n",
        "titanic_df.describe() #기초통계량"
      ],
      "execution_count": null,
      "outputs": []
    },
    {
      "cell_type": "markdown",
      "metadata": {
        "id": "R6Lgu5IpeSZf"
      },
      "source": [
        "##2)Basic feature selection(for preprocessing)"
      ]
    },
    {
      "cell_type": "code",
      "metadata": {
        "id": "_zjC7Spqq13c"
      },
      "source": [
        "titanic_df.drop(['Age','Sex'],axis=1,inplace=True) #axis필수,웬만하면 inplace"
      ],
      "execution_count": null,
      "outputs": []
    },
    {
      "cell_type": "code",
      "metadata": {
        "id": "iP3tKKZOqxrb"
      },
      "source": [
        "titanic_df['New_feature']=[1,2,3] #칼럼 추가\r\n",
        "titanic_df['Family']=titianic_df['SibSp']*10+titanic_df['Parch']\r\n",
        "titanic_df['Name_len']=titanic_df['Name'].apply(lambda:len(x)) #len(titanic['Name])이 아니라 apply lambda"
      ],
      "execution_count": null,
      "outputs": []
    },
    {
      "cell_type": "markdown",
      "metadata": {
        "id": "ADdMtgn34EZV"
      },
      "source": [
        "•불린 인덱싱"
      ]
    },
    {
      "cell_type": "code",
      "metadata": {
        "id": "PirHhQFKuBco"
      },
      "source": [
        "titanic_boolean=titanic_df[(titanic_df['Age']>60)&(titanic_df['Sex']=='female')] #새로운 dataframe만들때\r\n",
        "df.loc[(df.Age>15)&(df.Age<=30), 'Age_band']=2 #새로운 feature만들때"
      ],
      "execution_count": null,
      "outputs": []
    },
    {
      "cell_type": "markdown",
      "metadata": {
        "id": "bsKhdQ5-eSd_"
      },
      "source": [
        "##3)Encoding"
      ]
    },
    {
      "cell_type": "code",
      "metadata": {
        "id": "UnHNjeVRPAs4"
      },
      "source": [
        "df=pd.get_dummies(df,columns=['workingday','hour','weather','month']) #onehotencoder쉬운버전(encoder들과 다르게 df가 input)"
      ],
      "execution_count": null,
      "outputs": []
    },
    {
      "cell_type": "code",
      "metadata": {
        "id": "sO-8kUzsQyO1"
      },
      "source": [
        "from sklearn.preprocessing import LabelEncoder, OneHotEncoder #categorical에서 numerical로/categorical값마다 새 칼럼만들기\r\n",
        "items=['TV','냉장고','전자레인지','TV'] \r\n",
        "le=LabelEncoder().fit_transform(items)\r\n",
        "le=le.reshape(-1,1) #need 2darray\r\n",
        "ohe=OneHotEncoder().fit_transform(le) #input으로 list가능/불가능이라 ohe는 le의 output을 넣는다"
      ],
      "execution_count": null,
      "outputs": []
    },
    {
      "cell_type": "markdown",
      "metadata": {
        "id": "6eIXTVPueShH"
      },
      "source": [
        "#2.Preprocessing(with Visualization)"
      ]
    },
    {
      "cell_type": "markdown",
      "metadata": {
        "id": "fdoN8z0Qag0y"
      },
      "source": [
        "•시각화"
      ]
    },
    {
      "cell_type": "code",
      "metadata": {
        "id": "MuFroDhZfbb3"
      },
      "source": [
        "import matplotlib.pyplot as plt\r\n",
        "import seaborn as sns"
      ],
      "execution_count": null,
      "outputs": []
    },
    {
      "cell_type": "code",
      "metadata": {
        "id": "1AcZvJL8Df_T"
      },
      "source": [
        "fig,ax=plt.subplots(figsize=(16,8),ncols=4,nrows=2) #figsize로 figure객체의 픽셀조절 #subplot은 위치값인 axs도\r\n",
        "features=['RM','ZN','INDUS']\r\n",
        "for i,feature in enumerate(features):\r\n",
        "    row=int(i/4) #각 figure배치는 직접 ax보고 확인\r\n",
        "    col=i%4\r\n",
        "    ax=sns.histplot(data=DF,X=feature,y='PRICE',ax=axs[row][col]) #간단한 회귀계산에 그래프까지\r\n",
        "    ax=sns.bar"
      ],
      "execution_count": null,
      "outputs": []
    },
    {
      "cell_type": "markdown",
      "metadata": {
        "id": "D9c_Y1nYeSkR"
      },
      "source": [
        "##1)Null filling"
      ]
    },
    {
      "cell_type": "code",
      "metadata": {
        "id": "II3peZ40srzx"
      },
      "source": [
        "titanic_df['Cabin']=titanic_df['Cabin'].fillna(0)\r\n",
        "titanic_df['Cabin'].isna().sum() #확인"
      ],
      "execution_count": null,
      "outputs": []
    },
    {
      "cell_type": "markdown",
      "metadata": {
        "id": "FrClhaqzeSm2"
      },
      "source": [
        "##2)Scaling&Outlier removal(Only regression)"
      ]
    },
    {
      "cell_type": "markdown",
      "metadata": {
        "id": "4NTIu6eMPvEM"
      },
      "source": [
        "##3)Feature selection"
      ]
    },
    {
      "cell_type": "markdown",
      "metadata": {
        "id": "VjUO77G4sVXr"
      },
      "source": [
        "•Filter방식<br>\r\n",
        "target과 각 feature의 통계학적 연관성<br>\r\n",
        "chi2:categorical feature(mutual_info_classif도 가능)<br>\r\n",
        "수학적으로 category값별 target값의 실제값,예측값 비교<br>\r\n",
        "f_classif:numerical feature<br>\r\n",
        "수학적으로 target별 numerical값의 평균이 다름(ANOVA방식)"
      ]
    },
    {
      "cell_type": "code",
      "metadata": {
        "id": "B-XXUFpgsstj"
      },
      "source": [
        "from sklearn.feature_selection import SelectKBest,chi2,mutual_info_classif,f_classif\r\n",
        "X=SelectKBest(chi2,k=2).fit_transform(X,y) #SelectPercentile(chi2,percentile=10)도 괜찮"
      ],
      "execution_count": null,
      "outputs": []
    },
    {
      "cell_type": "code",
      "metadata": {
        "id": "sXbwOxeuvNtX"
      },
      "source": [
        "df.corr.where(np.triu(np.ones(df.corr)).astype(np.bool_),inplace=True) #upper corr로 만들기(True,1이면 남김) #triangular upper #bool means trueorfalse\r\n",
        "to_drop=[column for column in upper.columns if any(upper[column]>0.9)] #[return값 for문 똑같음 if조건문] #corr matrix를 column단위로 분석\r\n",
        "df.drop(to_drop,inplace=True)"
      ],
      "execution_count": null,
      "outputs": []
    },
    {
      "cell_type": "markdown",
      "metadata": {
        "id": "i14Zi_5YsZ4J"
      },
      "source": [
        "•Greedy방식<br>\r\n",
        "-Recursive<br>\r\n",
        "-Forward/Backward<br>"
      ]
    },
    {
      "cell_type": "code",
      "metadata": {
        "id": "ecAjpD_zwBYQ"
      },
      "source": [
        "from mlxtend.feature_selection import SequentialFeatureSelector as SFS\r\n",
        "sfs=SFS(RandomForestRegressor(),forward=False,scoring='neg_mean_squared_error',k_features=10,cv=3)"
      ],
      "execution_count": null,
      "outputs": []
    },
    {
      "cell_type": "markdown",
      "metadata": {
        "id": "CGO7bSFLspZP"
      },
      "source": [
        "•Embedded방식<br>"
      ]
    },
    {
      "cell_type": "code",
      "metadata": {
        "id": "-AscEIybwgAu"
      },
      "source": [
        "sel=SelectFromModel(Lasso(alpha=100))\r\n",
        "sel.fit(X,y)\r\n",
        "X=X[sel.get_support()] #get_support는 객체반환(직접해봐야알듯)"
      ],
      "execution_count": null,
      "outputs": []
    },
    {
      "cell_type": "code",
      "metadata": {
        "id": "DGr-HO6ZwgFL"
      },
      "source": [
        "importances=pd.Series(rf_clf.feature_importances_,index=X.columns) #자체로는 ndarray\r\n",
        "importances.sort_values()\r\n",
        "sns.barplot(x=importances,y=importances.index)"
      ],
      "execution_count": null,
      "outputs": []
    },
    {
      "cell_type": "markdown",
      "metadata": {
        "id": "4bkTBVIVN5Ch"
      },
      "source": [
        "##4)Dimension reduction(Too many features)"
      ]
    },
    {
      "cell_type": "markdown",
      "metadata": {
        "id": "lCA8TzsfP4pX"
      },
      "source": [
        "•PCA<br>\r\n",
        "공분산행렬(symmetric)을 EVD, 고유값 첫번째, 두번째큰 고유벡터로 분해 "
      ]
    },
    {
      "cell_type": "code",
      "metadata": {
        "id": "M5H-L0CsnTtP"
      },
      "source": [
        "from sklearn.decomposition import PCA \r\n",
        "pca=PCA(n_components=6)\r\n",
        "santander_pca=pca.fit_transform(santander_scaled) #보통 scale하고 적용 #ndarray반환\r\n",
        "pca_columns=['pca1','pca2','pca3','pca4','pca5','pca6']\r\n",
        "santander_df=pd.DataFrame(santander_pca,columns=pca_columns)"
      ],
      "execution_count": null,
      "outputs": []
    },
    {
      "cell_type": "markdown",
      "metadata": {
        "id": "j5Fkof7qQGQ3"
      },
      "source": [
        "•Truncated SVD<br> \r\n",
        "PCA와 다르게 rectangular로 확장<br>\r\n",
        "∑최소로 diagonal하게 만들고 U,Vt도 맞춰주기"
      ]
    },
    {
      "cell_type": "markdown",
      "metadata": {
        "id": "TwlL4LokQVZn"
      },
      "source": [
        "•LDA<br>\r\n",
        "클래스간 분산최대, 클래스내 분산최소"
      ]
    },
    {
      "cell_type": "code",
      "metadata": {
        "id": "czsvXOC2oTjH"
      },
      "source": [
        "from sklearn.dicriminant_analysis import LinearDiscriminantAnalysis\r\n",
        "lda=LinearDiscriminantAnalysis(n_components=6)\r\n",
        "lda.fit_transform(santander_scaled,santander['target']) #target값까지 필요"
      ],
      "execution_count": null,
      "outputs": []
    },
    {
      "cell_type": "markdown",
      "metadata": {
        "id": "QH2fSRiSeSpW"
      },
      "source": [
        "#3.Modeling"
      ]
    },
    {
      "cell_type": "code",
      "metadata": {
        "id": "s_pCeimd8SR3"
      },
      "source": [
        "from sklearn.model_selection import train_test_split,GridSearchCV, KFold, StratififedKFold #Stratified는 label분포가 치중되었을때(주로 분류)"
      ],
      "execution_count": null,
      "outputs": []
    },
    {
      "cell_type": "code",
      "metadata": {
        "id": "7pPiV3gLomg3"
      },
      "source": [
        "X_train,X_test,y_train,y_test= train_test_split(titanic_feature,titanic_label,test_size=0.2,random_state=0) #X가 먼저 #재현을 위해 randomstate필수"
      ],
      "execution_count": null,
      "outputs": []
    },
    {
      "cell_type": "code",
      "metadata": {
        "id": "sJ_QIIPa9FfC"
      },
      "source": [
        "kfold=KFold(n_splits=5,random_state=0) #5개의 kfold객체 생성 \r\n",
        "for train_index,test_index in kfold.split(titanic_feature,titanic_label): #각 인덱스를 ndarray로 반환 \r\n",
        "  X_train,X_test=titanic_feature[train_index], titanic_feature[test_index]\r\n",
        "  y_train,y_test=titanic_label[train_index], titanic_label[test_index]\r\n",
        "  lgbm_clf.fit(X_train,y_train)\r\n",
        "  cv_accuracy.append(accuracy_score(y_test,lgbm.predict(X_test)))\r\n",
        "  print('cv정확도:',cv_accuracy)\r\n",
        "print('\\n평균cv정확도:',np.mean(cv_accuracy))"
      ],
      "execution_count": null,
      "outputs": []
    },
    {
      "cell_type": "markdown",
      "metadata": {
        "id": "TQx7zY5OhJ4I"
      },
      "source": [
        "■ 분류"
      ]
    },
    {
      "cell_type": "code",
      "metadata": {
        "id": "H9jPAE84avbd"
      },
      "source": [
        "from sklearn.ensemble import RandomForestClassifier\r\n",
        "from xgboost import XGBClassifier\r\n",
        "from lightgbm import LGBMClassifier\r\n",
        "from sklearn.linear_model import LogisticRegression"
      ],
      "execution_count": null,
      "outputs": []
    },
    {
      "cell_type": "markdown",
      "metadata": {
        "id": "VgWwmKpRCMVR"
      },
      "source": [
        "• RandomForest(Bagging)<br>\r\n",
        "병렬적으로 결정트리에 bootstrapping된 데이터 학습<br>\r\n",
        "DecisionTree기반 알고리즘은 회귀도 가능(exRandomForestRegressor)"
      ]
    },
    {
      "cell_type": "code",
      "metadata": {
        "id": "Kf2V3cxdbLgB"
      },
      "source": [
        "rf_clf=RandomForestClassifier(random_state=0)\r\n",
        "params={'n_estimators':[100] #100개의 tree에서 나온 확률값 평균\r\n",
        "        'max_depth':[6,8,10] #이하 3개는 결정트리것 그대로\r\n",
        "        'min_samples_leaf':[8,12] #samples수 너무 적을 때까지 않가도록(클수록 과적합방지)\r\n",
        "        'min_samples_split':[8,16] #split기준은 지니계수(한쪽이 우세한 정도라 직관적)\r\n",
        "        }\r\n",
        "rf_gridcv.fit=GridSearchCV(rf_clf,param_grid=params,cv=5)\r\n",
        "rf_gridcv.fit(X_train,y_train)"
      ],
      "execution_count": null,
      "outputs": []
    },
    {
      "cell_type": "markdown",
      "metadata": {
        "id": "U5Yc0JMRCxlT"
      },
      "source": [
        "•XGBoost(Boosting)<br> \r\n",
        "GBM대비 병렬학습가능해 빠르고 과적합규제/가지치기로 split재검토,내부적 교차검증,결손값처리,조기중단"
      ]
    },
    {
      "cell_type": "code",
      "metadata": {
        "id": "B1RhFPoDd_Ai"
      },
      "source": [
        "xgb_clf=XGBClassifier(random_state=0)\r\n",
        "params={'learning_rate':[0.02],\r\n",
        "        'n_estimators':[1000,1500],\r\n",
        "        'max_depth':[3,5,7],\r\n",
        "        'colsample_bytree':[0.7,0.8],\r\n",
        "        'subsample':[0.9]}"
      ],
      "execution_count": null,
      "outputs": []
    },
    {
      "cell_type": "markdown",
      "metadata": {
        "id": "adMD-rJoDI4-"
      },
      "source": [
        "•LightGBM(Boosting)<br> \r\n",
        "XGBoost와 달리 leafwise 분할(시간,공간복잡도 개선, 성능비슷)"
      ]
    },
    {
      "cell_type": "code",
      "metadata": {
        "id": "lLd1KgA4emo-"
      },
      "source": [
        "lgbm_clf=LGBMClassifier(random_state=0)\r\n",
        "params={'learning_rate':[0.02],\r\n",
        "        'n_estimators':[1000,1500],\r\n",
        "        'max_depth':[3,5,7], #leafwise니까 살짝 더 크게\r\n",
        "        'colsample_bytree':[0.7,0.8], \r\n",
        "        'subsample':[0.9]\r\n",
        "        }\r\n",
        "grid_cv.fit=GridSearchCV(lgbm_clf,param_grid=params,cv=5)\r\n",
        "grid_cv.fit(X_train,y_train,early_stopping_rounds=30,eval_metric='auc',eval_set=[(X_train,y_train),(X_test,y_test)] #향상되지 않고 반복할 수 있는 최대횟수 #eval_set은 보통 학습데이터셋말고 다른것 "
      ],
      "execution_count": null,
      "outputs": []
    },
    {
      "cell_type": "markdown",
      "metadata": {
        "id": "ZBlkbrulEIIp"
      },
      "source": [
        "•LogisticRegression<br>\r\n",
        "sigmoid함수반환값을 확률로 간주<br>\r\n",
        "penalty로 규제유형(디폴트는 l2) / C로 alpha역수"
      ]
    },
    {
      "cell_type": "markdown",
      "metadata": {
        "id": "DHuKqjHTpP8Z"
      },
      "source": [
        "•SVC<br>\r\n",
        "feature space에서 가장 넓은 도로를 놓을 수 있는 선(large marginal classifictation)<br>\r\n",
        "도로안에 가장 많은 sample들어가게 하는 선으로 회귀도 가능(파라미터는 epsilon=1.5)<br>\r\n",
        "kernel trick방식은 속도가 좀 느림(유사도나 다항처리나)\r\n",
        "비교적 작은 데이터셋에 적합"
      ]
    },
    {
      "cell_type": "code",
      "metadata": {
        "id": "SDtvhw5kp9p5"
      },
      "source": [
        "from sklearn.svm import LinearSVC,SVC\r\n",
        "svm_clf=LinearSVC(C=1,loss='hinge') #C는 violation 낮을수록 설명력 향상"
      ],
      "execution_count": null,
      "outputs": []
    },
    {
      "cell_type": "code",
      "metadata": {
        "id": "ibTgbu7uqU8r"
      },
      "source": [
        "svm_clf=SVC(kernel='rbf',gamma=5,c=0.001) #gamma는 높을수록 설명력 향상(각 landmark의 영향력) #landmark와의 유사도(RadialBasisFunction)"
      ],
      "execution_count": null,
      "outputs": []
    },
    {
      "cell_type": "markdown",
      "metadata": {
        "id": "RAr6wrvfN_yZ"
      },
      "source": [
        "•Metric<br>\r\n",
        "confusion matrix에서 FP와 FN줄이기"
      ]
    },
    {
      "cell_type": "code",
      "metadata": {
        "id": "5jAUmOaKbfDC"
      },
      "source": [
        "from sklearn.metrics import recall_score,precision_score,f1_score,roc_auc_score\r\n",
        "def get_clf_eval(real,pred):\r\n",
        "  recall=recall_score(real,pred) #FP줄이고 싶음(암진단모델)\r\n",
        "  precision=precision_score(real,pred) #FN줄이고 싶음(스팸차단모델)\r\n",
        "  f1=f1_score(real,pred) #치우치지 않은 정도\r\n",
        "  auc=roc_auc_score(real,pred) #TPR-FPR그래프에서 TPR이 얼마나 큰지(1에 가까울수록 우수)\r\n",
        "  print('recall score:{0:.4f} / precision score:{1:.4f} / f1 score:{2:.4f} / f1 score:{3:.4f}'.format(recall,precision,f1,auc)) "
      ],
      "execution_count": null,
      "outputs": []
    },
    {
      "cell_type": "markdown",
      "metadata": {
        "id": "JVjebFXVg9Vg"
      },
      "source": [
        "■ 회귀"
      ]
    },
    {
      "cell_type": "markdown",
      "metadata": {
        "id": "5n_vzggnDXFN"
      },
      "source": [
        "•Scaling<br>\r\n",
        "Feature,Target을 로그변환"
      ]
    },
    {
      "cell_type": "code",
      "metadata": {
        "id": "lG4lhBOWft-g"
      },
      "source": [
        "def get_scaled_data(method=None,data=None): #적어도 target은 무조건 scaling 필요\r\n",
        "    if method='Standard':scaled_data=StandardScaler().fit_transform(data)\r\n",
        "    elif method='MinMax':scaled_data=MinMaxScaler().fit_transform(data)\r\n",
        "    elif method='Log':scaled_data=np.log1p(data) #변경된 target값으로 학습후 결과를 다시 expm1로 되돌림 #log(1+x)\r\n",
        "    else:scaled_data=data\r\n",
        "    return scaled_data"
      ],
      "execution_count": null,
      "outputs": []
    },
    {
      "cell_type": "markdown",
      "metadata": {
        "id": "LxPi-zahH01N"
      },
      "source": [
        "•PolynomialFeatures<br>\r\n",
        "주어진 변수로 파생변수추가해 설명력향상 but overfit 위험, 변수 너무 많아짐(커봤자 degree3)"
      ]
    },
    {
      "cell_type": "code",
      "metadata": {
        "id": "-JpUlQKdgXdN"
      },
      "source": [
        "from sklearn.preprocessing import PolynomialFeatures\r\n",
        "feature_df=PolynomialFeatures(degree=3).fit_transform(feature_df) "
      ],
      "execution_count": null,
      "outputs": []
    },
    {
      "cell_type": "markdown",
      "metadata": {
        "id": "qUm7Nq90IPDf"
      },
      "source": [
        "•Regulation<br>"
      ]
    },
    {
      "cell_type": "code",
      "metadata": {
        "id": "Rv_6lChihFen"
      },
      "source": [
        "from sklearn.linear_model import Ridge,Lasso,ElasticNet\r\n",
        "Ridge(alpha=0.1).fit(X_train,y_train) #커질수록 설명력 감소 #L2:계수크기규제(RSS+alpha*W2최소화)\r\n",
        "Lasso(alpha=0.1).fit(X_train,y_train) #L1:계수종류규제->feature selection기여(RSS+alpha*W최소화)\r\n",
        "ElasticNet(alpha=0.1,l1_ratio=0.7).fit(X_train,y_train) #alpha는 합 "
      ],
      "execution_count": null,
      "outputs": []
    },
    {
      "cell_type": "markdown",
      "metadata": {
        "id": "zUHG-CFwLYni"
      },
      "source": [
        "•Metric<br>\r\n",
        "MSE, R2"
      ]
    },
    {
      "cell_type": "code",
      "metadata": {
        "id": "neCSQvs0iVAv"
      },
      "source": [
        "from sklearn.metrics import mean_squared_error,r2_score #MSE와 R2\r\n",
        "def get_clf_eval(real,pred):\r\n",
        "  mse=mean_squared_error(real,pred)\r\n",
        "  r2=r2_score(real,pred)\r\n",
        "  print('MSE:{0:.4f} / R2:{1:.4f}'.format(mse,r2)) "
      ],
      "execution_count": null,
      "outputs": []
    },
    {
      "cell_type": "markdown",
      "metadata": {
        "id": "vqKxuakGhI9A"
      },
      "source": [
        "■ 군집화"
      ]
    },
    {
      "cell_type": "markdown",
      "metadata": {
        "id": "830n2rodLwqJ"
      },
      "source": [
        "•Kmeans<br>\r\n",
        "centroid별 평균중심으로 업데이트"
      ]
    },
    {
      "cell_type": "code",
      "metadata": {
        "id": "COqDuZHhkDhe"
      },
      "source": [
        "from sklearn.cluster import KMeans\r\n",
        "kmeans_clus=KMeans(n_clusters=3,max_iter=300)\r\n",
        "titanic_df['cluster']=kmeans_clus.fit(test_df)\r\n",
        "titanic_df.groupby(['target','cluster'])['Cabin'].count "
      ],
      "execution_count": null,
      "outputs": []
    },
    {
      "cell_type": "markdown",
      "metadata": {
        "id": "2jESWZ5gL5-Z"
      },
      "source": [
        "•MeansShift<br>\r\n",
        "centroid별 밀도중심으로 업데이트(KernelDensityFunction)"
      ]
    },
    {
      "cell_type": "code",
      "metadata": {
        "id": "6bEAaVxIl8VU"
      },
      "source": [
        "from sklearn.cluster import MeanShift, estimate_bandwidth\r\n",
        "meanshift_clus=MeanShift(bandwidth=estimate_bandwidth) #최적의 bandwidth값 return(작아야 설명력 향상)"
      ],
      "execution_count": null,
      "outputs": []
    },
    {
      "cell_type": "markdown",
      "metadata": {
        "id": "6huztqVjMAFB"
      },
      "source": [
        "•DBSCAN<br>"
      ]
    },
    {
      "cell_type": "code",
      "metadata": {
        "id": "f-iG0gQ8mees"
      },
      "source": [
        "from sklearn.cluster import DBSCAN #min_samples 넘는 corepoint끼리 연결/적으면 borderpoint거나 noise\r\n",
        "dbscan=DBSCAN(eps=0.6,min_samples=8,metric='euclidean') #eps클수록 border많아짐/min_samples클수록 core적어짐"
      ],
      "execution_count": null,
      "outputs": []
    },
    {
      "cell_type": "markdown",
      "metadata": {
        "id": "4mhQEW-9NgNU"
      },
      "source": [
        "•Metric<br>\r\n",
        "silhouette coef<br>\r\n",
        "각 데이터마다 b-a/max(b,a) / a는 클러스터내 평균거리, b는 최근접 클러스터내 평균거리 \r\n"
      ]
    },
    {
      "cell_type": "code",
      "metadata": {
        "id": "KRw3ZA4Ik_fv"
      },
      "source": [
        "from sklearn.metrics import silhouette_samples\r\n",
        "scores=silhouette_samples(titanic_df,titanic_df['cluster']) #모든 데이터의 score저장(1일수록 우수)"
      ],
      "execution_count": null,
      "outputs": []
    }
  ]
}